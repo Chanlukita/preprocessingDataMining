{
  "cells": [
    {
      "cell_type": "code",
      "execution_count": 312,
      "metadata": {
        "id": "P8LSDXhCBV6x"
      },
      "outputs": [],
      "source": [
        "import pandas as pd\n",
        "import numpy as np\n",
        "import seaborn as sns\n",
        "import matplotlib.pyplot as plt"
      ]
    },
    {
      "cell_type": "code",
      "execution_count": 313,
      "metadata": {
        "colab": {
          "base_uri": "https://localhost:8080/",
          "height": 1000
        },
        "id": "L1dBg5qaCCCU",
        "outputId": "78f953d1-6503-4be8-8126-fae756d6c079"
      },
      "outputs": [
        {
          "data": {
            "text/html": [
              "<div>\n",
              "<style scoped>\n",
              "    .dataframe tbody tr th:only-of-type {\n",
              "        vertical-align: middle;\n",
              "    }\n",
              "\n",
              "    .dataframe tbody tr th {\n",
              "        vertical-align: top;\n",
              "    }\n",
              "\n",
              "    .dataframe thead th {\n",
              "        text-align: right;\n",
              "    }\n",
              "</style>\n",
              "<table border=\"1\" class=\"dataframe\">\n",
              "  <thead>\n",
              "    <tr style=\"text-align: right;\">\n",
              "      <th></th>\n",
              "      <th>id</th>\n",
              "      <th>kunci</th>\n",
              "      <th>trig</th>\n",
              "      <th>tanggal</th>\n",
              "      <th>jam</th>\n",
              "      <th>noorder</th>\n",
              "      <th>kdkg</th>\n",
              "      <th>nota</th>\n",
              "      <th>kdptg</th>\n",
              "      <th>kdjlr</th>\n",
              "      <th>...</th>\n",
              "      <th>hgjual</th>\n",
              "      <th>total</th>\n",
              "      <th>alebih</th>\n",
              "      <th>tlebih</th>\n",
              "      <th>lat</th>\n",
              "      <th>lng</th>\n",
              "      <th>akurat</th>\n",
              "      <th>acc</th>\n",
              "      <th>tglacc</th>\n",
              "      <th>user</th>\n",
              "    </tr>\n",
              "  </thead>\n",
              "  <tbody>\n",
              "    <tr>\n",
              "      <th>0</th>\n",
              "      <td>2</td>\n",
              "      <td>C32G000480-22022021-C32P0007-R24-KF-20-7635-79...</td>\n",
              "      <td>0</td>\n",
              "      <td>02/22/2021</td>\n",
              "      <td>10/19/2023</td>\n",
              "      <td>OR-C32P0007-20210222-01</td>\n",
              "      <td>KF</td>\n",
              "      <td>C32G000480-22022021</td>\n",
              "      <td>C32P0007</td>\n",
              "      <td>C32098</td>\n",
              "      <td>...</td>\n",
              "      <td>7950</td>\n",
              "      <td>159000</td>\n",
              "      <td>315</td>\n",
              "      <td>6300</td>\n",
              "      <td>-17.892.029</td>\n",
              "      <td>1.034.110.245</td>\n",
              "      <td>5</td>\n",
              "      <td>1</td>\n",
              "      <td>02/25/2021</td>\n",
              "      <td>android</td>\n",
              "    </tr>\n",
              "    <tr>\n",
              "      <th>1</th>\n",
              "      <td>3</td>\n",
              "      <td>C32G000481-22022021-C32P0007-R24-KF-3-7635-795...</td>\n",
              "      <td>0</td>\n",
              "      <td>02/22/2021</td>\n",
              "      <td>10/19/2023</td>\n",
              "      <td>OR-C32P0007-20210222-01</td>\n",
              "      <td>KF</td>\n",
              "      <td>C32G000481-22022021</td>\n",
              "      <td>C32P0007</td>\n",
              "      <td>C32098</td>\n",
              "      <td>...</td>\n",
              "      <td>7950</td>\n",
              "      <td>23850</td>\n",
              "      <td>315</td>\n",
              "      <td>945</td>\n",
              "      <td>-17.933.325</td>\n",
              "      <td>1.034.107.938</td>\n",
              "      <td>4</td>\n",
              "      <td>1</td>\n",
              "      <td>02/25/2021</td>\n",
              "      <td>android</td>\n",
              "    </tr>\n",
              "    <tr>\n",
              "      <th>2</th>\n",
              "      <td>4</td>\n",
              "      <td>C32G000482-22022021-C32P0007-R24-KF-20-7635-79...</td>\n",
              "      <td>0</td>\n",
              "      <td>02/22/2021</td>\n",
              "      <td>10/19/2023</td>\n",
              "      <td>OR-C32P0007-20210222-01</td>\n",
              "      <td>KF</td>\n",
              "      <td>C32G000482-22022021</td>\n",
              "      <td>C32P0007</td>\n",
              "      <td>C32098</td>\n",
              "      <td>...</td>\n",
              "      <td>7950</td>\n",
              "      <td>159000</td>\n",
              "      <td>315</td>\n",
              "      <td>6300</td>\n",
              "      <td>-1.792.946</td>\n",
              "      <td>1.034.087.392</td>\n",
              "      <td>4</td>\n",
              "      <td>1</td>\n",
              "      <td>02/25/2021</td>\n",
              "      <td>android</td>\n",
              "    </tr>\n",
              "    <tr>\n",
              "      <th>3</th>\n",
              "      <td>5</td>\n",
              "      <td>C32G001575-22022021-C32P0007-R37-KF-10-4301-44...</td>\n",
              "      <td>0</td>\n",
              "      <td>02/22/2021</td>\n",
              "      <td>10/19/2023</td>\n",
              "      <td>OR-C32P0007-20210222-01</td>\n",
              "      <td>KF</td>\n",
              "      <td>C32G001575-22022021</td>\n",
              "      <td>C32P0007</td>\n",
              "      <td>C32098</td>\n",
              "      <td>...</td>\n",
              "      <td>4450</td>\n",
              "      <td>44500</td>\n",
              "      <td>149</td>\n",
              "      <td>1490</td>\n",
              "      <td>-1.791.146</td>\n",
              "      <td>1.034.032.551</td>\n",
              "      <td>4</td>\n",
              "      <td>1</td>\n",
              "      <td>02/25/2021</td>\n",
              "      <td>android</td>\n",
              "    </tr>\n",
              "    <tr>\n",
              "      <th>4</th>\n",
              "      <td>6</td>\n",
              "      <td>C32G001575-22022021-C32P0007-R24-KF-3-7635-795...</td>\n",
              "      <td>0</td>\n",
              "      <td>02/22/2021</td>\n",
              "      <td>10/19/2023</td>\n",
              "      <td>OR-C32P0007-20210222-01</td>\n",
              "      <td>KF</td>\n",
              "      <td>C32G001575-22022021</td>\n",
              "      <td>C32P0007</td>\n",
              "      <td>C32098</td>\n",
              "      <td>...</td>\n",
              "      <td>7950</td>\n",
              "      <td>23850</td>\n",
              "      <td>315</td>\n",
              "      <td>945</td>\n",
              "      <td>-17.911.445</td>\n",
              "      <td>1.034.032.534</td>\n",
              "      <td>4</td>\n",
              "      <td>1</td>\n",
              "      <td>02/25/2021</td>\n",
              "      <td>android</td>\n",
              "    </tr>\n",
              "    <tr>\n",
              "      <th>...</th>\n",
              "      <td>...</td>\n",
              "      <td>...</td>\n",
              "      <td>...</td>\n",
              "      <td>...</td>\n",
              "      <td>...</td>\n",
              "      <td>...</td>\n",
              "      <td>...</td>\n",
              "      <td>...</td>\n",
              "      <td>...</td>\n",
              "      <td>...</td>\n",
              "      <td>...</td>\n",
              "      <td>...</td>\n",
              "      <td>...</td>\n",
              "      <td>...</td>\n",
              "      <td>...</td>\n",
              "      <td>...</td>\n",
              "      <td>...</td>\n",
              "      <td>...</td>\n",
              "      <td>...</td>\n",
              "      <td>...</td>\n",
              "      <td>...</td>\n",
              "    </tr>\n",
              "    <tr>\n",
              "      <th>28319</th>\n",
              "      <td>29159</td>\n",
              "      <td>C32G005822-29042022-C32P0030-R36-KF-20-4726-49...</td>\n",
              "      <td>0</td>\n",
              "      <td>04/29/2022</td>\n",
              "      <td>10/19/2023</td>\n",
              "      <td>OR-C32P0030-20220411-01</td>\n",
              "      <td>KF</td>\n",
              "      <td>C32G005822-29042022</td>\n",
              "      <td>C32P0030</td>\n",
              "      <td>C32093</td>\n",
              "      <td>...</td>\n",
              "      <td>4900</td>\n",
              "      <td>98000</td>\n",
              "      <td>174</td>\n",
              "      <td>3480</td>\n",
              "      <td>-13.219.932</td>\n",
              "      <td>1.033.266.233</td>\n",
              "      <td>5</td>\n",
              "      <td>1</td>\n",
              "      <td>04/29/2022</td>\n",
              "      <td>android</td>\n",
              "    </tr>\n",
              "    <tr>\n",
              "      <th>28320</th>\n",
              "      <td>29160</td>\n",
              "      <td>C32G006092-29042022-C32P0030-R36-KF-10-4726-49...</td>\n",
              "      <td>0</td>\n",
              "      <td>04/29/2022</td>\n",
              "      <td>10/19/2023</td>\n",
              "      <td>OR-C32P0030-20220411-01</td>\n",
              "      <td>KF</td>\n",
              "      <td>C32G006092-29042022</td>\n",
              "      <td>C32P0030</td>\n",
              "      <td>C32093</td>\n",
              "      <td>...</td>\n",
              "      <td>4900</td>\n",
              "      <td>49000</td>\n",
              "      <td>174</td>\n",
              "      <td>1740</td>\n",
              "      <td>-13.338.348</td>\n",
              "      <td>1.033.391.411</td>\n",
              "      <td>5</td>\n",
              "      <td>1</td>\n",
              "      <td>04/29/2022</td>\n",
              "      <td>android</td>\n",
              "    </tr>\n",
              "    <tr>\n",
              "      <th>28321</th>\n",
              "      <td>29161</td>\n",
              "      <td>C32G004219-29042022-C32P0031-R35-US-1-8221-100...</td>\n",
              "      <td>0</td>\n",
              "      <td>04/29/2022</td>\n",
              "      <td>10/19/2023</td>\n",
              "      <td>OR-C32P0031-20220408-01</td>\n",
              "      <td>US</td>\n",
              "      <td>C32G004219-29042022</td>\n",
              "      <td>C32P0031</td>\n",
              "      <td>C32200</td>\n",
              "      <td>...</td>\n",
              "      <td>10000</td>\n",
              "      <td>10000</td>\n",
              "      <td>1779</td>\n",
              "      <td>1779</td>\n",
              "      <td>-0.8248398</td>\n",
              "      <td>1.034.678.567</td>\n",
              "      <td>5</td>\n",
              "      <td>1</td>\n",
              "      <td>04/29/2022</td>\n",
              "      <td>android</td>\n",
              "    </tr>\n",
              "    <tr>\n",
              "      <th>28322</th>\n",
              "      <td>29162</td>\n",
              "      <td>C32G004219-29042022-C32P0031-R24-US-3-7955-900...</td>\n",
              "      <td>0</td>\n",
              "      <td>04/29/2022</td>\n",
              "      <td>10/19/2023</td>\n",
              "      <td>OR-C32P0031-20220401-01</td>\n",
              "      <td>US</td>\n",
              "      <td>C32G004219-29042022</td>\n",
              "      <td>C32P0031</td>\n",
              "      <td>C32200</td>\n",
              "      <td>...</td>\n",
              "      <td>9000</td>\n",
              "      <td>27000</td>\n",
              "      <td>1045</td>\n",
              "      <td>3135</td>\n",
              "      <td>-0.8248395</td>\n",
              "      <td>1.034.678.568</td>\n",
              "      <td>5</td>\n",
              "      <td>1</td>\n",
              "      <td>04/29/2022</td>\n",
              "      <td>android</td>\n",
              "    </tr>\n",
              "    <tr>\n",
              "      <th>28323</th>\n",
              "      <td>29163</td>\n",
              "      <td>C32G005379-29042022-C32P0032-R38-KF-3-11500-10...</td>\n",
              "      <td>0</td>\n",
              "      <td>04/29/2022</td>\n",
              "      <td>10/19/2023</td>\n",
              "      <td>OR-C32P0032-20220301-01</td>\n",
              "      <td>KF</td>\n",
              "      <td>C32G005379-29042022</td>\n",
              "      <td>C32P0032</td>\n",
              "      <td>C32171</td>\n",
              "      <td>...</td>\n",
              "      <td>10700</td>\n",
              "      <td>32100</td>\n",
              "      <td>-800</td>\n",
              "      <td>-2400</td>\n",
              "      <td>-16.417.829</td>\n",
              "      <td>103.636.796</td>\n",
              "      <td>5</td>\n",
              "      <td>1</td>\n",
              "      <td>04/29/2022</td>\n",
              "      <td>android</td>\n",
              "    </tr>\n",
              "  </tbody>\n",
              "</table>\n",
              "<p>28324 rows × 25 columns</p>\n",
              "</div>"
            ],
            "text/plain": [
              "          id                                              kunci  trig  \\\n",
              "0          2  C32G000480-22022021-C32P0007-R24-KF-20-7635-79...     0   \n",
              "1          3  C32G000481-22022021-C32P0007-R24-KF-3-7635-795...     0   \n",
              "2          4  C32G000482-22022021-C32P0007-R24-KF-20-7635-79...     0   \n",
              "3          5  C32G001575-22022021-C32P0007-R37-KF-10-4301-44...     0   \n",
              "4          6  C32G001575-22022021-C32P0007-R24-KF-3-7635-795...     0   \n",
              "...      ...                                                ...   ...   \n",
              "28319  29159  C32G005822-29042022-C32P0030-R36-KF-20-4726-49...     0   \n",
              "28320  29160  C32G006092-29042022-C32P0030-R36-KF-10-4726-49...     0   \n",
              "28321  29161  C32G004219-29042022-C32P0031-R35-US-1-8221-100...     0   \n",
              "28322  29162  C32G004219-29042022-C32P0031-R24-US-3-7955-900...     0   \n",
              "28323  29163  C32G005379-29042022-C32P0032-R38-KF-3-11500-10...     0   \n",
              "\n",
              "          tanggal         jam                  noorder kdkg  \\\n",
              "0      02/22/2021  10/19/2023  OR-C32P0007-20210222-01   KF   \n",
              "1      02/22/2021  10/19/2023  OR-C32P0007-20210222-01   KF   \n",
              "2      02/22/2021  10/19/2023  OR-C32P0007-20210222-01   KF   \n",
              "3      02/22/2021  10/19/2023  OR-C32P0007-20210222-01   KF   \n",
              "4      02/22/2021  10/19/2023  OR-C32P0007-20210222-01   KF   \n",
              "...           ...         ...                      ...  ...   \n",
              "28319  04/29/2022  10/19/2023  OR-C32P0030-20220411-01   KF   \n",
              "28320  04/29/2022  10/19/2023  OR-C32P0030-20220411-01   KF   \n",
              "28321  04/29/2022  10/19/2023  OR-C32P0031-20220408-01   US   \n",
              "28322  04/29/2022  10/19/2023  OR-C32P0031-20220401-01   US   \n",
              "28323  04/29/2022  10/19/2023  OR-C32P0032-20220301-01   KF   \n",
              "\n",
              "                      nota     kdptg   kdjlr  ... hgjual   total  alebih  \\\n",
              "0      C32G000480-22022021  C32P0007  C32098  ...   7950  159000     315   \n",
              "1      C32G000481-22022021  C32P0007  C32098  ...   7950   23850     315   \n",
              "2      C32G000482-22022021  C32P0007  C32098  ...   7950  159000     315   \n",
              "3      C32G001575-22022021  C32P0007  C32098  ...   4450   44500     149   \n",
              "4      C32G001575-22022021  C32P0007  C32098  ...   7950   23850     315   \n",
              "...                    ...       ...     ...  ...    ...     ...     ...   \n",
              "28319  C32G005822-29042022  C32P0030  C32093  ...   4900   98000     174   \n",
              "28320  C32G006092-29042022  C32P0030  C32093  ...   4900   49000     174   \n",
              "28321  C32G004219-29042022  C32P0031  C32200  ...  10000   10000    1779   \n",
              "28322  C32G004219-29042022  C32P0031  C32200  ...   9000   27000    1045   \n",
              "28323  C32G005379-29042022  C32P0032  C32171  ...  10700   32100    -800   \n",
              "\n",
              "       tlebih          lat            lng  akurat  acc      tglacc     user  \n",
              "0        6300  -17.892.029  1.034.110.245       5    1  02/25/2021  android  \n",
              "1         945  -17.933.325  1.034.107.938       4    1  02/25/2021  android  \n",
              "2        6300   -1.792.946  1.034.087.392       4    1  02/25/2021  android  \n",
              "3        1490   -1.791.146  1.034.032.551       4    1  02/25/2021  android  \n",
              "4         945  -17.911.445  1.034.032.534       4    1  02/25/2021  android  \n",
              "...       ...          ...            ...     ...  ...         ...      ...  \n",
              "28319    3480  -13.219.932  1.033.266.233       5    1  04/29/2022  android  \n",
              "28320    1740  -13.338.348  1.033.391.411       5    1  04/29/2022  android  \n",
              "28321    1779   -0.8248398  1.034.678.567       5    1  04/29/2022  android  \n",
              "28322    3135   -0.8248395  1.034.678.568       5    1  04/29/2022  android  \n",
              "28323   -2400  -16.417.829    103.636.796       5    1  04/29/2022  android  \n",
              "\n",
              "[28324 rows x 25 columns]"
            ]
          },
          "execution_count": 313,
          "metadata": {},
          "output_type": "execute_result"
        }
      ],
      "source": [
        "df = pd.read_csv('Data Sukun Jual.csv', sep=';')\n",
        "df"
      ]
    },
    {
      "cell_type": "code",
      "execution_count": 314,
      "metadata": {
        "colab": {
          "base_uri": "https://localhost:8080/"
        },
        "id": "qlJjO_N6CWeR",
        "outputId": "83b7d255-1018-4086-cd35-707add310efe"
      },
      "outputs": [
        {
          "data": {
            "text/plain": [
              "id          int64\n",
              "kunci      object\n",
              "trig        int64\n",
              "tanggal    object\n",
              "jam        object\n",
              "noorder    object\n",
              "kdkg       object\n",
              "nota       object\n",
              "kdptg      object\n",
              "kdjlr      object\n",
              "kdplg      object\n",
              "kdrkk      object\n",
              "cang        int64\n",
              "jumlah      int64\n",
              "hgkirim     int64\n",
              "hgjual      int64\n",
              "total       int64\n",
              "alebih      int64\n",
              "tlebih      int64\n",
              "lat        object\n",
              "lng        object\n",
              "akurat      int64\n",
              "acc         int64\n",
              "tglacc     object\n",
              "user       object\n",
              "dtype: object"
            ]
          },
          "execution_count": 314,
          "metadata": {},
          "output_type": "execute_result"
        }
      ],
      "source": [
        "df.dtypes"
      ]
    },
    {
      "cell_type": "code",
      "execution_count": 315,
      "metadata": {
        "id": "qxn0P6i_CvDB"
      },
      "outputs": [],
      "source": [
        "day = \"2023-12-01\"\n",
        "day = pd.to_datetime(day)\n",
        "df['tanggal'] = pd.to_datetime(df['tanggal'], errors='coerce')\n",
        "df_filtered = df[df['tanggal'].dt.year.between(2020, 2023)]\n",
        "recency = df_filtered.groupby([\"kdplg\"]).agg({\"tanggal\": lambda x: ((day - x.max()).days)})"
      ]
    },
    {
      "cell_type": "code",
      "execution_count": 316,
      "metadata": {},
      "outputs": [
        {
          "name": "stdout",
          "output_type": "stream",
          "text": [
            "datetime64[ns]\n"
          ]
        }
      ],
      "source": [
        "print(df['tanggal'].dtype)"
      ]
    },
    {
      "cell_type": "code",
      "execution_count": 317,
      "metadata": {},
      "outputs": [
        {
          "name": "stdout",
          "output_type": "stream",
          "text": [
            "          id                                              kunci  trig tanggal  \\\n",
            "579      586  C32G002842-01032021-C32P0005-R08-DK-50-16471-1...     1     NaT   \n",
            "580      588  C32G001125-01032021-C32P0005-R29-DK-20-11051-1...     0     NaT   \n",
            "581      589  C32G001114-01032021-C32P0005-R07-DK-300-12786-...     0     NaT   \n",
            "582      590  C32G001114-01032021-C32P0005-R08-DK-600-16471-...     0     NaT   \n",
            "583      591  C32G001116-01032021-C32P0005-R08-DK-200-16471-...     0     NaT   \n",
            "...      ...                                                ...   ...     ...   \n",
            "27408  28236  C32G000582-12042022-C32P0007-R24-KF-10-7955-80...     0     NaT   \n",
            "27409  28237  C32G000583-12042022-C32P0007-R24-KF-10-7955-80...     0     NaT   \n",
            "27410  28238  C32G000579-12042022-C32P0007-R24-KF-10-7955-80...     0     NaT   \n",
            "27411  28239  C32G000569-12042022-C32P0007-R24-KF-10-7955-80...     0     NaT   \n",
            "27412  28240  C32G001617-12042022-C32P0007-R38-KF-1-11500-10...     0     NaT   \n",
            "\n",
            "              jam                  noorder kdkg                 nota  \\\n",
            "579    10/19/2023  OR-C32P0005-20210222-02   DK  C32G002842-01032021   \n",
            "580    10/19/2023  OR-C32P0005-20210224-01   DK  C32G001125-01032021   \n",
            "581    10/19/2023  OR-C32P0005-20210222-01   DK  C32G001114-01032021   \n",
            "582    10/19/2023  OR-C32P0005-20210222-02   DK  C32G001114-01032021   \n",
            "583    10/19/2023  OR-C32P0005-20210222-02   DK  C32G001116-01032021   \n",
            "...           ...                      ...  ...                  ...   \n",
            "27408  10/19/2023  OR-C32P0007-20220401-01   KF  C32G000582-12042022   \n",
            "27409  10/19/2023  OR-C32P0007-20220401-01   KF  C32G000583-12042022   \n",
            "27410  10/19/2023  OR-C32P0007-20220401-01   KF  C32G000579-12042022   \n",
            "27411  10/19/2023  OR-C32P0007-20220401-01   KF  C32G000569-12042022   \n",
            "27412  10/19/2023  OR-C32P0007-20220301-01   KF  C32G001617-12042022   \n",
            "\n",
            "          kdptg   kdjlr  ... hgjual    total  alebih  tlebih          lat  \\\n",
            "579    C32P0005  C32007  ...  16795   839750     324   16200   -1.567.678   \n",
            "580    C32P0005  C32007  ...  11275   225500     224    4480  -16.521.467   \n",
            "581    C32P0005  C32007  ...  13010  3903000     224   67200  -16.639.569   \n",
            "582    C32P0005  C32007  ...  16495  9897000      24   14400  -16.639.549   \n",
            "583    C32P0005  C32007  ...  16495  3299000      24    4800  -16.869.492   \n",
            "...         ...     ...  ...    ...      ...     ...     ...          ...   \n",
            "27408  C32P0007  C32051  ...   8050    80500      95     950  -26.622.825   \n",
            "27409  C32P0007  C32051  ...   8050    80500      95     950  -26.632.839   \n",
            "27410  C32P0007  C32051  ...   8050    80500      95     950  -26.423.309   \n",
            "27411  C32P0007  C32051  ...   8050    80500      95     950  -25.820.984   \n",
            "27412  C32P0007  C32051  ...  10700    10700    -800    -800  -25.820.778   \n",
            "\n",
            "                 lng  akurat  acc      tglacc     user  \n",
            "579    1.036.494.065      20    1    03/01/21  android  \n",
            "580      103.693.173       4    1    03/01/21  android  \n",
            "581    1.036.670.927       4    1    03/01/21  android  \n",
            "582    1.036.670.926       4    1    03/01/21  android  \n",
            "583    1.036.554.796       4    1    03/01/21  android  \n",
            "...              ...     ...  ...         ...      ...  \n",
            "27408  1.041.003.339       4    1  04/13/2022  android  \n",
            "27409  1.040.998.996       4    1  04/13/2022  android  \n",
            "27410  1.040.904.338       4    1  04/13/2022  android  \n",
            "27411  1.041.219.786       4    1  04/13/2022  android  \n",
            "27412  1.041.219.791      10    1  04/13/2022  android  \n",
            "\n",
            "[10937 rows x 25 columns]\n"
          ]
        }
      ],
      "source": [
        "print(df[df['tanggal'].isna()])"
      ]
    },
    {
      "cell_type": "code",
      "execution_count": 318,
      "metadata": {
        "colab": {
          "base_uri": "https://localhost:8080/",
          "height": 700
        },
        "id": "ct4jYgiIET5N",
        "outputId": "fae41b4b-0b2b-4675-dedf-857b373e5376"
      },
      "outputs": [
        {
          "data": {
            "text/html": [
              "<div>\n",
              "<style scoped>\n",
              "    .dataframe tbody tr th:only-of-type {\n",
              "        vertical-align: middle;\n",
              "    }\n",
              "\n",
              "    .dataframe tbody tr th {\n",
              "        vertical-align: top;\n",
              "    }\n",
              "\n",
              "    .dataframe thead th {\n",
              "        text-align: right;\n",
              "    }\n",
              "</style>\n",
              "<table border=\"1\" class=\"dataframe\">\n",
              "  <thead>\n",
              "    <tr style=\"text-align: right;\">\n",
              "      <th></th>\n",
              "      <th>tanggal</th>\n",
              "    </tr>\n",
              "    <tr>\n",
              "      <th>kdplg</th>\n",
              "      <th></th>\n",
              "    </tr>\n",
              "  </thead>\n",
              "  <tbody>\n",
              "    <tr>\n",
              "      <th>0</th>\n",
              "      <td>584</td>\n",
              "    </tr>\n",
              "    <tr>\n",
              "      <th>C32G000001</th>\n",
              "      <td>793</td>\n",
              "    </tr>\n",
              "    <tr>\n",
              "      <th>C32G000002</th>\n",
              "      <td>620</td>\n",
              "    </tr>\n",
              "    <tr>\n",
              "      <th>C32G000003</th>\n",
              "      <td>653</td>\n",
              "    </tr>\n",
              "    <tr>\n",
              "      <th>C32G000004</th>\n",
              "      <td>835</td>\n",
              "    </tr>\n",
              "    <tr>\n",
              "      <th>C32G000005</th>\n",
              "      <td>793</td>\n",
              "    </tr>\n",
              "    <tr>\n",
              "      <th>C32G000006</th>\n",
              "      <td>611</td>\n",
              "    </tr>\n",
              "    <tr>\n",
              "      <th>C32G000007</th>\n",
              "      <td>611</td>\n",
              "    </tr>\n",
              "    <tr>\n",
              "      <th>C32G000008</th>\n",
              "      <td>653</td>\n",
              "    </tr>\n",
              "    <tr>\n",
              "      <th>C32G000009</th>\n",
              "      <td>595</td>\n",
              "    </tr>\n",
              "    <tr>\n",
              "      <th>C32G000010</th>\n",
              "      <td>611</td>\n",
              "    </tr>\n",
              "    <tr>\n",
              "      <th>C32G000011</th>\n",
              "      <td>779</td>\n",
              "    </tr>\n",
              "    <tr>\n",
              "      <th>C32G000012</th>\n",
              "      <td>595</td>\n",
              "    </tr>\n",
              "    <tr>\n",
              "      <th>C32G000013</th>\n",
              "      <td>681</td>\n",
              "    </tr>\n",
              "    <tr>\n",
              "      <th>C32G000014</th>\n",
              "      <td>779</td>\n",
              "    </tr>\n",
              "    <tr>\n",
              "      <th>C32G000015</th>\n",
              "      <td>681</td>\n",
              "    </tr>\n",
              "    <tr>\n",
              "      <th>C32G000016</th>\n",
              "      <td>778</td>\n",
              "    </tr>\n",
              "    <tr>\n",
              "      <th>C32G000017</th>\n",
              "      <td>681</td>\n",
              "    </tr>\n",
              "    <tr>\n",
              "      <th>C32G000018</th>\n",
              "      <td>764</td>\n",
              "    </tr>\n",
              "    <tr>\n",
              "      <th>C32G000019</th>\n",
              "      <td>583</td>\n",
              "    </tr>\n",
              "  </tbody>\n",
              "</table>\n",
              "</div>"
            ],
            "text/plain": [
              "            tanggal\n",
              "kdplg              \n",
              "0               584\n",
              "C32G000001      793\n",
              "C32G000002      620\n",
              "C32G000003      653\n",
              "C32G000004      835\n",
              "C32G000005      793\n",
              "C32G000006      611\n",
              "C32G000007      611\n",
              "C32G000008      653\n",
              "C32G000009      595\n",
              "C32G000010      611\n",
              "C32G000011      779\n",
              "C32G000012      595\n",
              "C32G000013      681\n",
              "C32G000014      779\n",
              "C32G000015      681\n",
              "C32G000016      778\n",
              "C32G000017      681\n",
              "C32G000018      764\n",
              "C32G000019      583"
            ]
          },
          "execution_count": 318,
          "metadata": {},
          "output_type": "execute_result"
        }
      ],
      "source": [
        "recency.head(20)"
      ]
    },
    {
      "cell_type": "code",
      "execution_count": 319,
      "metadata": {
        "colab": {
          "base_uri": "https://localhost:8080/",
          "height": 235
        },
        "id": "bdr_o87pEpl-",
        "outputId": "899c3c72-b8ee-40d5-e7fe-8c2ecf4a82d8"
      },
      "outputs": [
        {
          "data": {
            "text/html": [
              "<div>\n",
              "<style scoped>\n",
              "    .dataframe tbody tr th:only-of-type {\n",
              "        vertical-align: middle;\n",
              "    }\n",
              "\n",
              "    .dataframe tbody tr th {\n",
              "        vertical-align: top;\n",
              "    }\n",
              "\n",
              "    .dataframe thead th {\n",
              "        text-align: right;\n",
              "    }\n",
              "</style>\n",
              "<table border=\"1\" class=\"dataframe\">\n",
              "  <thead>\n",
              "    <tr style=\"text-align: right;\">\n",
              "      <th></th>\n",
              "      <th>nota</th>\n",
              "    </tr>\n",
              "    <tr>\n",
              "      <th>kdplg</th>\n",
              "      <th></th>\n",
              "    </tr>\n",
              "  </thead>\n",
              "  <tbody>\n",
              "    <tr>\n",
              "      <th>0</th>\n",
              "      <td>35</td>\n",
              "    </tr>\n",
              "    <tr>\n",
              "      <th>C32G000001</th>\n",
              "      <td>8</td>\n",
              "    </tr>\n",
              "    <tr>\n",
              "      <th>C32G000002</th>\n",
              "      <td>11</td>\n",
              "    </tr>\n",
              "    <tr>\n",
              "      <th>C32G000003</th>\n",
              "      <td>9</td>\n",
              "    </tr>\n",
              "    <tr>\n",
              "      <th>C32G000004</th>\n",
              "      <td>5</td>\n",
              "    </tr>\n",
              "  </tbody>\n",
              "</table>\n",
              "</div>"
            ],
            "text/plain": [
              "            nota\n",
              "kdplg           \n",
              "0             35\n",
              "C32G000001     8\n",
              "C32G000002    11\n",
              "C32G000003     9\n",
              "C32G000004     5"
            ]
          },
          "execution_count": 319,
          "metadata": {},
          "output_type": "execute_result"
        }
      ],
      "source": [
        "#frequency\n",
        "\n",
        "\n",
        "freq=df.drop_duplicates(subset=\"nota\").groupby([\"kdplg\"])[[\"nota\"]].count()\n",
        "freq.head(5)"
      ]
    },
    {
      "cell_type": "code",
      "execution_count": 320,
      "metadata": {
        "id": "yBWVQ0qyH0TS"
      },
      "outputs": [],
      "source": [
        "#monetary\n",
        "\n",
        "df[\"total\"]=df[\"jumlah\"]*df[\"hgjual\"]"
      ]
    },
    {
      "cell_type": "code",
      "execution_count": 321,
      "metadata": {
        "colab": {
          "base_uri": "https://localhost:8080/",
          "height": 450
        },
        "id": "wJWwBU8SIAsd",
        "outputId": "b6d31e1b-f6fd-47e2-9e56-160049fa34fe"
      },
      "outputs": [
        {
          "data": {
            "text/html": [
              "<div>\n",
              "<style scoped>\n",
              "    .dataframe tbody tr th:only-of-type {\n",
              "        vertical-align: middle;\n",
              "    }\n",
              "\n",
              "    .dataframe tbody tr th {\n",
              "        vertical-align: top;\n",
              "    }\n",
              "\n",
              "    .dataframe thead th {\n",
              "        text-align: right;\n",
              "    }\n",
              "</style>\n",
              "<table border=\"1\" class=\"dataframe\">\n",
              "  <thead>\n",
              "    <tr style=\"text-align: right;\">\n",
              "      <th></th>\n",
              "      <th>total</th>\n",
              "    </tr>\n",
              "    <tr>\n",
              "      <th>kdplg</th>\n",
              "      <th></th>\n",
              "    </tr>\n",
              "  </thead>\n",
              "  <tbody>\n",
              "    <tr>\n",
              "      <th>0</th>\n",
              "      <td>11560076</td>\n",
              "    </tr>\n",
              "    <tr>\n",
              "      <th>C32G000001</th>\n",
              "      <td>362750</td>\n",
              "    </tr>\n",
              "    <tr>\n",
              "      <th>C32G000002</th>\n",
              "      <td>779700</td>\n",
              "    </tr>\n",
              "    <tr>\n",
              "      <th>C32G000003</th>\n",
              "      <td>2017600</td>\n",
              "    </tr>\n",
              "    <tr>\n",
              "      <th>C32G000004</th>\n",
              "      <td>547700</td>\n",
              "    </tr>\n",
              "    <tr>\n",
              "      <th>...</th>\n",
              "      <td>...</td>\n",
              "    </tr>\n",
              "    <tr>\n",
              "      <th>C32G006229</th>\n",
              "      <td>14700</td>\n",
              "    </tr>\n",
              "    <tr>\n",
              "      <th>C32G006232</th>\n",
              "      <td>16100</td>\n",
              "    </tr>\n",
              "    <tr>\n",
              "      <th>C32G006234</th>\n",
              "      <td>922500</td>\n",
              "    </tr>\n",
              "    <tr>\n",
              "      <th>C32G006237</th>\n",
              "      <td>10700</td>\n",
              "    </tr>\n",
              "    <tr>\n",
              "      <th>C32G006240</th>\n",
              "      <td>4900</td>\n",
              "    </tr>\n",
              "  </tbody>\n",
              "</table>\n",
              "<p>2674 rows × 1 columns</p>\n",
              "</div>"
            ],
            "text/plain": [
              "               total\n",
              "kdplg               \n",
              "0           11560076\n",
              "C32G000001    362750\n",
              "C32G000002    779700\n",
              "C32G000003   2017600\n",
              "C32G000004    547700\n",
              "...              ...\n",
              "C32G006229     14700\n",
              "C32G006232     16100\n",
              "C32G006234    922500\n",
              "C32G006237     10700\n",
              "C32G006240      4900\n",
              "\n",
              "[2674 rows x 1 columns]"
            ]
          },
          "execution_count": 321,
          "metadata": {},
          "output_type": "execute_result"
        }
      ],
      "source": [
        "money=df.groupby([\"kdplg\"])[[\"total\"]].sum()\n",
        "money"
      ]
    },
    {
      "cell_type": "code",
      "execution_count": 323,
      "metadata": {
        "colab": {
          "base_uri": "https://localhost:8080/",
          "height": 450
        },
        "id": "y70omp2vIdFn",
        "outputId": "7bb93226-8959-4953-8fe9-b5afb6867772"
      },
      "outputs": [
        {
          "data": {
            "text/html": [
              "<div>\n",
              "<style scoped>\n",
              "    .dataframe tbody tr th:only-of-type {\n",
              "        vertical-align: middle;\n",
              "    }\n",
              "\n",
              "    .dataframe tbody tr th {\n",
              "        vertical-align: top;\n",
              "    }\n",
              "\n",
              "    .dataframe thead th {\n",
              "        text-align: right;\n",
              "    }\n",
              "</style>\n",
              "<table border=\"1\" class=\"dataframe\">\n",
              "  <thead>\n",
              "    <tr style=\"text-align: right;\">\n",
              "      <th></th>\n",
              "      <th>Recency</th>\n",
              "      <th>Frequency</th>\n",
              "      <th>Monetary</th>\n",
              "    </tr>\n",
              "    <tr>\n",
              "      <th>kdplg</th>\n",
              "      <th></th>\n",
              "      <th></th>\n",
              "      <th></th>\n",
              "    </tr>\n",
              "  </thead>\n",
              "  <tbody>\n",
              "    <tr>\n",
              "      <th>0</th>\n",
              "      <td>584.0</td>\n",
              "      <td>35</td>\n",
              "      <td>11560076</td>\n",
              "    </tr>\n",
              "    <tr>\n",
              "      <th>C32G000001</th>\n",
              "      <td>793.0</td>\n",
              "      <td>8</td>\n",
              "      <td>362750</td>\n",
              "    </tr>\n",
              "    <tr>\n",
              "      <th>C32G000002</th>\n",
              "      <td>620.0</td>\n",
              "      <td>11</td>\n",
              "      <td>779700</td>\n",
              "    </tr>\n",
              "    <tr>\n",
              "      <th>C32G000003</th>\n",
              "      <td>653.0</td>\n",
              "      <td>9</td>\n",
              "      <td>2017600</td>\n",
              "    </tr>\n",
              "    <tr>\n",
              "      <th>C32G000004</th>\n",
              "      <td>835.0</td>\n",
              "      <td>5</td>\n",
              "      <td>547700</td>\n",
              "    </tr>\n",
              "    <tr>\n",
              "      <th>...</th>\n",
              "      <td>...</td>\n",
              "      <td>...</td>\n",
              "      <td>...</td>\n",
              "    </tr>\n",
              "    <tr>\n",
              "      <th>C32G005956</th>\n",
              "      <td>NaN</td>\n",
              "      <td>1</td>\n",
              "      <td>15600</td>\n",
              "    </tr>\n",
              "    <tr>\n",
              "      <th>C32G006003</th>\n",
              "      <td>NaN</td>\n",
              "      <td>1</td>\n",
              "      <td>4900</td>\n",
              "    </tr>\n",
              "    <tr>\n",
              "      <th>C32G006005</th>\n",
              "      <td>NaN</td>\n",
              "      <td>1</td>\n",
              "      <td>10700</td>\n",
              "    </tr>\n",
              "    <tr>\n",
              "      <th>C32G006006</th>\n",
              "      <td>NaN</td>\n",
              "      <td>1</td>\n",
              "      <td>15600</td>\n",
              "    </tr>\n",
              "    <tr>\n",
              "      <th>C32G006008</th>\n",
              "      <td>NaN</td>\n",
              "      <td>1</td>\n",
              "      <td>63900</td>\n",
              "    </tr>\n",
              "  </tbody>\n",
              "</table>\n",
              "<p>2674 rows × 3 columns</p>\n",
              "</div>"
            ],
            "text/plain": [
              "            Recency  Frequency  Monetary\n",
              "kdplg                                   \n",
              "0             584.0         35  11560076\n",
              "C32G000001    793.0          8    362750\n",
              "C32G000002    620.0         11    779700\n",
              "C32G000003    653.0          9   2017600\n",
              "C32G000004    835.0          5    547700\n",
              "...             ...        ...       ...\n",
              "C32G005956      NaN          1     15600\n",
              "C32G006003      NaN          1      4900\n",
              "C32G006005      NaN          1     10700\n",
              "C32G006006      NaN          1     15600\n",
              "C32G006008      NaN          1     63900\n",
              "\n",
              "[2674 rows x 3 columns]"
            ]
          },
          "execution_count": 323,
          "metadata": {},
          "output_type": "execute_result"
        }
      ],
      "source": [
        "RFM=pd.concat([recency,freq,money], axis=1)\n",
        "recency.columns=[\"Recency\"]\n",
        "freq.columns=[\"Frequency\"]\n",
        "money.columns=[\"Monetary\"]\n",
        "RFM"
      ]
    },
    {
      "cell_type": "code",
      "execution_count": 324,
      "metadata": {},
      "outputs": [
        {
          "name": "stdout",
          "output_type": "stream",
          "text": [
            "Recency      317\n",
            "Frequency      0\n",
            "Monetary       0\n",
            "dtype: int64\n"
          ]
        }
      ],
      "source": [
        "print(RFM.isna().sum())"
      ]
    },
    {
      "cell_type": "code",
      "execution_count": 325,
      "metadata": {},
      "outputs": [],
      "source": [
        "RFM = RFM.fillna(0)"
      ]
    },
    {
      "cell_type": "code",
      "execution_count": 326,
      "metadata": {},
      "outputs": [
        {
          "name": "stdout",
          "output_type": "stream",
          "text": [
            "Recency      0\n",
            "Frequency    0\n",
            "Monetary     0\n",
            "dtype: int64\n"
          ]
        }
      ],
      "source": [
        "print(RFM.isna().sum())"
      ]
    },
    {
      "cell_type": "code",
      "execution_count": 327,
      "metadata": {
        "id": "wZB4Xf11Iqam"
      },
      "outputs": [],
      "source": [
        "from sklearn.preprocessing import StandardScaler\n",
        "scaler=StandardScaler()\n",
        "scaled=scaler.fit_transform(RFM)"
      ]
    },
    {
      "cell_type": "code",
      "execution_count": 328,
      "metadata": {
        "colab": {
          "base_uri": "https://localhost:8080/",
          "height": 1000
        },
        "id": "nOIMvlutIrtU",
        "outputId": "24d38162-1f37-4f7b-aae6-2f2fd94afeaa"
      },
      "outputs": [
        {
          "name": "stderr",
          "output_type": "stream",
          "text": [
            "/Library/Frameworks/Python.framework/Versions/3.11/lib/python3.11/site-packages/sklearn/cluster/_kmeans.py:1416: FutureWarning: The default value of `n_init` will change from 10 to 'auto' in 1.4. Set the value of `n_init` explicitly to suppress the warning\n",
            "  super()._check_params_vs_input(X, default_n_init=10)\n",
            "/Library/Frameworks/Python.framework/Versions/3.11/lib/python3.11/site-packages/sklearn/cluster/_kmeans.py:1416: FutureWarning: The default value of `n_init` will change from 10 to 'auto' in 1.4. Set the value of `n_init` explicitly to suppress the warning\n",
            "  super()._check_params_vs_input(X, default_n_init=10)\n",
            "/Library/Frameworks/Python.framework/Versions/3.11/lib/python3.11/site-packages/sklearn/cluster/_kmeans.py:1416: FutureWarning: The default value of `n_init` will change from 10 to 'auto' in 1.4. Set the value of `n_init` explicitly to suppress the warning\n",
            "  super()._check_params_vs_input(X, default_n_init=10)\n",
            "/Library/Frameworks/Python.framework/Versions/3.11/lib/python3.11/site-packages/sklearn/cluster/_kmeans.py:1416: FutureWarning: The default value of `n_init` will change from 10 to 'auto' in 1.4. Set the value of `n_init` explicitly to suppress the warning\n",
            "  super()._check_params_vs_input(X, default_n_init=10)\n",
            "/Library/Frameworks/Python.framework/Versions/3.11/lib/python3.11/site-packages/sklearn/cluster/_kmeans.py:1416: FutureWarning: The default value of `n_init` will change from 10 to 'auto' in 1.4. Set the value of `n_init` explicitly to suppress the warning\n",
            "  super()._check_params_vs_input(X, default_n_init=10)\n",
            "/Library/Frameworks/Python.framework/Versions/3.11/lib/python3.11/site-packages/sklearn/cluster/_kmeans.py:1416: FutureWarning: The default value of `n_init` will change from 10 to 'auto' in 1.4. Set the value of `n_init` explicitly to suppress the warning\n",
            "  super()._check_params_vs_input(X, default_n_init=10)\n",
            "/Library/Frameworks/Python.framework/Versions/3.11/lib/python3.11/site-packages/sklearn/cluster/_kmeans.py:1416: FutureWarning: The default value of `n_init` will change from 10 to 'auto' in 1.4. Set the value of `n_init` explicitly to suppress the warning\n",
            "  super()._check_params_vs_input(X, default_n_init=10)\n",
            "/Library/Frameworks/Python.framework/Versions/3.11/lib/python3.11/site-packages/sklearn/cluster/_kmeans.py:1416: FutureWarning: The default value of `n_init` will change from 10 to 'auto' in 1.4. Set the value of `n_init` explicitly to suppress the warning\n",
            "  super()._check_params_vs_input(X, default_n_init=10)\n",
            "/Library/Frameworks/Python.framework/Versions/3.11/lib/python3.11/site-packages/sklearn/cluster/_kmeans.py:1416: FutureWarning: The default value of `n_init` will change from 10 to 'auto' in 1.4. Set the value of `n_init` explicitly to suppress the warning\n",
            "  super()._check_params_vs_input(X, default_n_init=10)\n",
            "/Library/Frameworks/Python.framework/Versions/3.11/lib/python3.11/site-packages/sklearn/cluster/_kmeans.py:1416: FutureWarning: The default value of `n_init` will change from 10 to 'auto' in 1.4. Set the value of `n_init` explicitly to suppress the warning\n",
            "  super()._check_params_vs_input(X, default_n_init=10)\n"
          ]
        },
        {
          "data": {
            "image/png": "[encoded data removed]",
            "text/plain": [
              "<Figure size 1200x800 with 1 Axes>"
            ]
          },
          "metadata": {},
          "output_type": "display_data"
        }
      ],
      "source": [
        "from sklearn.cluster import KMeans\n",
        "\n",
        "inertia=[]\n",
        "\n",
        "for i in np.arange(1,11):\n",
        "    kmeans = KMeans(n_clusters=i, random_state=20)\n",
        "    kmeans.fit(scaled)\n",
        "    inertia.append(kmeans.inertia_)\n",
        "\n",
        "\n",
        "plt.figure(figsize=(12,8))\n",
        "plt.plot(inertia, marker=\"o\")\n",
        "plt.title('Elbow Method for Optimal k')\n",
        "plt.xlabel('Number of Clusters')\n",
        "plt.ylabel('Inertia')\n",
        "plt.grid(True)\n",
        "plt.show()"
      ]
    },
    {
      "cell_type": "code",
      "execution_count": 346,
      "metadata": {},
      "outputs": [
        {
          "name": "stderr",
          "output_type": "stream",
          "text": [
            "/Library/Frameworks/Python.framework/Versions/3.11/lib/python3.11/site-packages/sklearn/cluster/_kmeans.py:1416: FutureWarning: The default value of `n_init` will change from 10 to 'auto' in 1.4. Set the value of `n_init` explicitly to suppress the warning\n",
            "  super()._check_params_vs_input(X, default_n_init=10)\n"
          ]
        },
        {
          "data": {
            "image/png": "[encoded data removed]",
            "text/plain": [
              "<Figure size 800x500 with 1 Axes>"
            ]
          },
          "metadata": {},
          "output_type": "display_data"
        },
        {
          "name": "stderr",
          "output_type": "stream",
          "text": [
            "/Library/Frameworks/Python.framework/Versions/3.11/lib/python3.11/site-packages/sklearn/cluster/_kmeans.py:1416: FutureWarning: The default value of `n_init` will change from 10 to 'auto' in 1.4. Set the value of `n_init` explicitly to suppress the warning\n",
            "  super()._check_params_vs_input(X, default_n_init=10)\n"
          ]
        },
        {
          "data": {
            "image/png": "[encoded data removed]",
            "text/plain": [
              "<Figure size 800x500 with 1 Axes>"
            ]
          },
          "metadata": {},
          "output_type": "display_data"
        },
        {
          "name": "stderr",
          "output_type": "stream",
          "text": [
            "/Library/Frameworks/Python.framework/Versions/3.11/lib/python3.11/site-packages/sklearn/cluster/_kmeans.py:1416: FutureWarning: The default value of `n_init` will change from 10 to 'auto' in 1.4. Set the value of `n_init` explicitly to suppress the warning\n",
            "  super()._check_params_vs_input(X, default_n_init=10)\n"
          ]
        },
        {
          "data": {
            "image/png": "[encoded data removed]",
            "text/plain": [
              "<Figure size 800x500 with 1 Axes>"
            ]
          },
          "metadata": {},
          "output_type": "display_data"
        },
        {
          "name": "stderr",
          "output_type": "stream",
          "text": [
            "/Library/Frameworks/Python.framework/Versions/3.11/lib/python3.11/site-packages/sklearn/cluster/_kmeans.py:1416: FutureWarning: The default value of `n_init` will change from 10 to 'auto' in 1.4. Set the value of `n_init` explicitly to suppress the warning\n",
            "  super()._check_params_vs_input(X, default_n_init=10)\n"
          ]
        },
        {
          "data": {
            "image/png": "[encoded data removed]",
            "text/plain": [
              "<Figure size 800x500 with 1 Axes>"
            ]
          },
          "metadata": {},
          "output_type": "display_data"
        }
      ],
      "source": [
        "for i in range(2, 6):\n",
        "    kmeans = KMeans(n_clusters=i, random_state=20)\n",
        "    kmeans.fit(scaled)\n",
        "    labels = kmeans.labels_\n",
        "    \n",
        "    plt.figure(figsize=(8, 5))\n",
        "    plt.title(f\"Clustering with {i} clusters\")\n",
        "    plt.hist(labels, bins=i, edgecolor='black')\n",
        "    plt.xlabel('Cluster Label')\n",
        "    plt.ylabel('Count')\n",
        "    plt.show()"
      ]
    },
    {
      "cell_type": "code",
      "execution_count": 330,
      "metadata": {
        "colab": {
          "base_uri": "https://localhost:8080/"
        },
        "id": "KWAbEyfsI-zR",
        "outputId": "7eccb395-69a0-4b3d-a1cb-340b0c29df03"
      },
      "outputs": [
        {
          "name": "stderr",
          "output_type": "stream",
          "text": [
            "/Library/Frameworks/Python.framework/Versions/3.11/lib/python3.11/site-packages/sklearn/cluster/_kmeans.py:1416: FutureWarning: The default value of `n_init` will change from 10 to 'auto' in 1.4. Set the value of `n_init` explicitly to suppress the warning\n",
            "  super()._check_params_vs_input(X, default_n_init=10)\n"
          ]
        }
      ],
      "source": [
        "kmeans=KMeans(n_clusters=4)\n",
        "kmeans.fit(scaled)\n",
        "RFM[\"Kluster\"]=(kmeans.labels_+1)"
      ]
    },
    {
      "cell_type": "code",
      "execution_count": 331,
      "metadata": {
        "colab": {
          "base_uri": "https://localhost:8080/",
          "height": 450
        },
        "id": "4k-c14JuJDQR",
        "outputId": "79cf6906-3f95-4ce5-e685-671a83f9bdb9"
      },
      "outputs": [
        {
          "data": {
            "text/html": [
              "<div>\n",
              "<style scoped>\n",
              "    .dataframe tbody tr th:only-of-type {\n",
              "        vertical-align: middle;\n",
              "    }\n",
              "\n",
              "    .dataframe tbody tr th {\n",
              "        vertical-align: top;\n",
              "    }\n",
              "\n",
              "    .dataframe thead th {\n",
              "        text-align: right;\n",
              "    }\n",
              "</style>\n",
              "<table border=\"1\" class=\"dataframe\">\n",
              "  <thead>\n",
              "    <tr style=\"text-align: right;\">\n",
              "      <th></th>\n",
              "      <th>Recency</th>\n",
              "      <th>Frequency</th>\n",
              "      <th>Monetary</th>\n",
              "      <th>Kluster</th>\n",
              "    </tr>\n",
              "    <tr>\n",
              "      <th>kdplg</th>\n",
              "      <th></th>\n",
              "      <th></th>\n",
              "      <th></th>\n",
              "      <th></th>\n",
              "    </tr>\n",
              "  </thead>\n",
              "  <tbody>\n",
              "    <tr>\n",
              "      <th>0</th>\n",
              "      <td>584.0</td>\n",
              "      <td>35</td>\n",
              "      <td>11560076</td>\n",
              "      <td>1</td>\n",
              "    </tr>\n",
              "    <tr>\n",
              "      <th>C32G000001</th>\n",
              "      <td>793.0</td>\n",
              "      <td>8</td>\n",
              "      <td>362750</td>\n",
              "      <td>2</td>\n",
              "    </tr>\n",
              "    <tr>\n",
              "      <th>C32G000002</th>\n",
              "      <td>620.0</td>\n",
              "      <td>11</td>\n",
              "      <td>779700</td>\n",
              "      <td>2</td>\n",
              "    </tr>\n",
              "    <tr>\n",
              "      <th>C32G000003</th>\n",
              "      <td>653.0</td>\n",
              "      <td>9</td>\n",
              "      <td>2017600</td>\n",
              "      <td>2</td>\n",
              "    </tr>\n",
              "    <tr>\n",
              "      <th>C32G000004</th>\n",
              "      <td>835.0</td>\n",
              "      <td>5</td>\n",
              "      <td>547700</td>\n",
              "      <td>2</td>\n",
              "    </tr>\n",
              "    <tr>\n",
              "      <th>...</th>\n",
              "      <td>...</td>\n",
              "      <td>...</td>\n",
              "      <td>...</td>\n",
              "      <td>...</td>\n",
              "    </tr>\n",
              "    <tr>\n",
              "      <th>C32G005956</th>\n",
              "      <td>0.0</td>\n",
              "      <td>1</td>\n",
              "      <td>15600</td>\n",
              "      <td>3</td>\n",
              "    </tr>\n",
              "    <tr>\n",
              "      <th>C32G006003</th>\n",
              "      <td>0.0</td>\n",
              "      <td>1</td>\n",
              "      <td>4900</td>\n",
              "      <td>3</td>\n",
              "    </tr>\n",
              "    <tr>\n",
              "      <th>C32G006005</th>\n",
              "      <td>0.0</td>\n",
              "      <td>1</td>\n",
              "      <td>10700</td>\n",
              "      <td>3</td>\n",
              "    </tr>\n",
              "    <tr>\n",
              "      <th>C32G006006</th>\n",
              "      <td>0.0</td>\n",
              "      <td>1</td>\n",
              "      <td>15600</td>\n",
              "      <td>3</td>\n",
              "    </tr>\n",
              "    <tr>\n",
              "      <th>C32G006008</th>\n",
              "      <td>0.0</td>\n",
              "      <td>1</td>\n",
              "      <td>63900</td>\n",
              "      <td>3</td>\n",
              "    </tr>\n",
              "  </tbody>\n",
              "</table>\n",
              "<p>2674 rows × 4 columns</p>\n",
              "</div>"
            ],
            "text/plain": [
              "            Recency  Frequency  Monetary  Kluster\n",
              "kdplg                                            \n",
              "0             584.0         35  11560076        1\n",
              "C32G000001    793.0          8    362750        2\n",
              "C32G000002    620.0         11    779700        2\n",
              "C32G000003    653.0          9   2017600        2\n",
              "C32G000004    835.0          5    547700        2\n",
              "...             ...        ...       ...      ...\n",
              "C32G005956      0.0          1     15600        3\n",
              "C32G006003      0.0          1      4900        3\n",
              "C32G006005      0.0          1     10700        3\n",
              "C32G006006      0.0          1     15600        3\n",
              "C32G006008      0.0          1     63900        3\n",
              "\n",
              "[2674 rows x 4 columns]"
            ]
          },
          "execution_count": 331,
          "metadata": {},
          "output_type": "execute_result"
        }
      ],
      "source": [
        "RFM"
      ]
    },
    {
      "cell_type": "code",
      "execution_count": 332,
      "metadata": {
        "colab": {
          "base_uri": "https://localhost:8080/",
          "height": 227
        },
        "id": "poH3lHsTJPpt",
        "outputId": "0f4c9587-b2e8-48db-8440-a3e4dd64010a"
      },
      "outputs": [
        {
          "data": {
            "text/html": [
              "<div>\n",
              "<style scoped>\n",
              "    .dataframe tbody tr th:only-of-type {\n",
              "        vertical-align: middle;\n",
              "    }\n",
              "\n",
              "    .dataframe tbody tr th {\n",
              "        vertical-align: top;\n",
              "    }\n",
              "\n",
              "    .dataframe thead th {\n",
              "        text-align: right;\n",
              "    }\n",
              "</style>\n",
              "<table border=\"1\" class=\"dataframe\">\n",
              "  <thead>\n",
              "    <tr style=\"text-align: right;\">\n",
              "      <th></th>\n",
              "      <th>Recency</th>\n",
              "      <th>Frequency</th>\n",
              "      <th>Monetary</th>\n",
              "    </tr>\n",
              "    <tr>\n",
              "      <th>Kluster</th>\n",
              "      <th></th>\n",
              "      <th></th>\n",
              "      <th></th>\n",
              "    </tr>\n",
              "  </thead>\n",
              "  <tbody>\n",
              "    <tr>\n",
              "      <th>1</th>\n",
              "      <td>614.715074</td>\n",
              "      <td>20.420956</td>\n",
              "      <td>8.320962e+06</td>\n",
              "    </tr>\n",
              "    <tr>\n",
              "      <th>2</th>\n",
              "      <td>742.613385</td>\n",
              "      <td>4.147677</td>\n",
              "      <td>4.118075e+05</td>\n",
              "    </tr>\n",
              "    <tr>\n",
              "      <th>3</th>\n",
              "      <td>0.000000</td>\n",
              "      <td>1.182965</td>\n",
              "      <td>1.002837e+05</td>\n",
              "    </tr>\n",
              "    <tr>\n",
              "      <th>4</th>\n",
              "      <td>599.000000</td>\n",
              "      <td>28.400000</td>\n",
              "      <td>3.335073e+08</td>\n",
              "    </tr>\n",
              "  </tbody>\n",
              "</table>\n",
              "</div>"
            ],
            "text/plain": [
              "            Recency  Frequency      Monetary\n",
              "Kluster                                     \n",
              "1        614.715074  20.420956  8.320962e+06\n",
              "2        742.613385   4.147677  4.118075e+05\n",
              "3          0.000000   1.182965  1.002837e+05\n",
              "4        599.000000  28.400000  3.335073e+08"
            ]
          },
          "execution_count": 332,
          "metadata": {},
          "output_type": "execute_result"
        }
      ],
      "source": [
        "final=RFM.groupby([\"Kluster\"])[[\"Recency\", \"Frequency\", \"Monetary\"]].mean()\n",
        "final"
      ]
    },
    {
      "cell_type": "code",
      "execution_count": 334,
      "metadata": {
        "id": "bUX_hyOgKXTo"
      },
      "outputs": [],
      "source": [
        "def func(row):\n",
        "    if row[\"Kluster\"]==1:\n",
        "        return 'Classic'\n",
        "    if row[\"Kluster\"]==2:\n",
        "        return 'Silver'\n",
        "    if row[\"Kluster\"]==3:\n",
        "        return 'Gold'\n",
        "    elif row[\"Kluster\"]==4:\n",
        "        return 'Platinum'\n",
        "    else:\n",
        "        return 'tidak diketahui'"
      ]
    },
    {
      "cell_type": "code",
      "execution_count": 335,
      "metadata": {
        "id": "YhnXSTDaKavw"
      },
      "outputs": [],
      "source": [
        "RFM['group']=RFM.apply(func, axis=1)"
      ]
    },
    {
      "cell_type": "code",
      "execution_count": 336,
      "metadata": {
        "colab": {
          "base_uri": "https://localhost:8080/",
          "height": 450
        },
        "id": "oKkgH9k9KenT",
        "outputId": "1c0b7f12-ab45-4476-ca4f-c8f0d2d62fb7"
      },
      "outputs": [
        {
          "data": {
            "text/html": [
              "<div>\n",
              "<style scoped>\n",
              "    .dataframe tbody tr th:only-of-type {\n",
              "        vertical-align: middle;\n",
              "    }\n",
              "\n",
              "    .dataframe tbody tr th {\n",
              "        vertical-align: top;\n",
              "    }\n",
              "\n",
              "    .dataframe thead th {\n",
              "        text-align: right;\n",
              "    }\n",
              "</style>\n",
              "<table border=\"1\" class=\"dataframe\">\n",
              "  <thead>\n",
              "    <tr style=\"text-align: right;\">\n",
              "      <th></th>\n",
              "      <th>Recency</th>\n",
              "      <th>Frequency</th>\n",
              "      <th>Monetary</th>\n",
              "      <th>Kluster</th>\n",
              "      <th>group</th>\n",
              "    </tr>\n",
              "    <tr>\n",
              "      <th>kdplg</th>\n",
              "      <th></th>\n",
              "      <th></th>\n",
              "      <th></th>\n",
              "      <th></th>\n",
              "      <th></th>\n",
              "    </tr>\n",
              "  </thead>\n",
              "  <tbody>\n",
              "    <tr>\n",
              "      <th>0</th>\n",
              "      <td>584.0</td>\n",
              "      <td>35</td>\n",
              "      <td>11560076</td>\n",
              "      <td>1</td>\n",
              "      <td>Classic</td>\n",
              "    </tr>\n",
              "    <tr>\n",
              "      <th>C32G000001</th>\n",
              "      <td>793.0</td>\n",
              "      <td>8</td>\n",
              "      <td>362750</td>\n",
              "      <td>2</td>\n",
              "      <td>Silver</td>\n",
              "    </tr>\n",
              "    <tr>\n",
              "      <th>C32G000002</th>\n",
              "      <td>620.0</td>\n",
              "      <td>11</td>\n",
              "      <td>779700</td>\n",
              "      <td>2</td>\n",
              "      <td>Silver</td>\n",
              "    </tr>\n",
              "    <tr>\n",
              "      <th>C32G000003</th>\n",
              "      <td>653.0</td>\n",
              "      <td>9</td>\n",
              "      <td>2017600</td>\n",
              "      <td>2</td>\n",
              "      <td>Silver</td>\n",
              "    </tr>\n",
              "    <tr>\n",
              "      <th>C32G000004</th>\n",
              "      <td>835.0</td>\n",
              "      <td>5</td>\n",
              "      <td>547700</td>\n",
              "      <td>2</td>\n",
              "      <td>Silver</td>\n",
              "    </tr>\n",
              "    <tr>\n",
              "      <th>...</th>\n",
              "      <td>...</td>\n",
              "      <td>...</td>\n",
              "      <td>...</td>\n",
              "      <td>...</td>\n",
              "      <td>...</td>\n",
              "    </tr>\n",
              "    <tr>\n",
              "      <th>C32G005956</th>\n",
              "      <td>0.0</td>\n",
              "      <td>1</td>\n",
              "      <td>15600</td>\n",
              "      <td>3</td>\n",
              "      <td>Gold</td>\n",
              "    </tr>\n",
              "    <tr>\n",
              "      <th>C32G006003</th>\n",
              "      <td>0.0</td>\n",
              "      <td>1</td>\n",
              "      <td>4900</td>\n",
              "      <td>3</td>\n",
              "      <td>Gold</td>\n",
              "    </tr>\n",
              "    <tr>\n",
              "      <th>C32G006005</th>\n",
              "      <td>0.0</td>\n",
              "      <td>1</td>\n",
              "      <td>10700</td>\n",
              "      <td>3</td>\n",
              "      <td>Gold</td>\n",
              "    </tr>\n",
              "    <tr>\n",
              "      <th>C32G006006</th>\n",
              "      <td>0.0</td>\n",
              "      <td>1</td>\n",
              "      <td>15600</td>\n",
              "      <td>3</td>\n",
              "      <td>Gold</td>\n",
              "    </tr>\n",
              "    <tr>\n",
              "      <th>C32G006008</th>\n",
              "      <td>0.0</td>\n",
              "      <td>1</td>\n",
              "      <td>63900</td>\n",
              "      <td>3</td>\n",
              "      <td>Gold</td>\n",
              "    </tr>\n",
              "  </tbody>\n",
              "</table>\n",
              "<p>2674 rows × 5 columns</p>\n",
              "</div>"
            ],
            "text/plain": [
              "            Recency  Frequency  Monetary  Kluster    group\n",
              "kdplg                                                     \n",
              "0             584.0         35  11560076        1  Classic\n",
              "C32G000001    793.0          8    362750        2   Silver\n",
              "C32G000002    620.0         11    779700        2   Silver\n",
              "C32G000003    653.0          9   2017600        2   Silver\n",
              "C32G000004    835.0          5    547700        2   Silver\n",
              "...             ...        ...       ...      ...      ...\n",
              "C32G005956      0.0          1     15600        3     Gold\n",
              "C32G006003      0.0          1      4900        3     Gold\n",
              "C32G006005      0.0          1     10700        3     Gold\n",
              "C32G006006      0.0          1     15600        3     Gold\n",
              "C32G006008      0.0          1     63900        3     Gold\n",
              "\n",
              "[2674 rows x 5 columns]"
            ]
          },
          "execution_count": 336,
          "metadata": {},
          "output_type": "execute_result"
        }
      ],
      "source": [
        "RFM"
      ]
    },
    {
      "cell_type": "code",
      "execution_count": 337,
      "metadata": {
        "id": "lGCt2ehuLkTr"
      },
      "outputs": [],
      "source": [
        "result=RFM.group.value_counts()"
      ]
    },
    {
      "cell_type": "code",
      "execution_count": 338,
      "metadata": {
        "colab": {
          "base_uri": "https://localhost:8080/"
        },
        "id": "uV6E4dXSNELx",
        "outputId": "f3c99e80-12b1-46d4-e2c6-3fa03ccdf97a"
      },
      "outputs": [
        {
          "data": {
            "text/plain": [
              "group\n",
              "Silver      1808\n",
              "Classic      544\n",
              "Gold         317\n",
              "Platinum       5\n",
              "Name: count, dtype: int64"
            ]
          },
          "execution_count": 338,
          "metadata": {},
          "output_type": "execute_result"
        }
      ],
      "source": [
        "result"
      ]
    },
    {
      "cell_type": "code",
      "execution_count": 344,
      "metadata": {
        "colab": {
          "base_uri": "https://localhost:8080/",
          "height": 447
        },
        "id": "0BnS1fV8NIxs",
        "outputId": "037e5c02-884b-411c-8771-31f3439df561"
      },
      "outputs": [
        {
          "data": {
            "text/plain": [
              "<Axes: ylabel='group'>"
            ]
          },
          "execution_count": 344,
          "metadata": {},
          "output_type": "execute_result"
        },
        {
          "data": {
            "image/png": "[encoded data removed]",
            "text/plain": [
              "<Figure size 640x480 with 1 Axes>"
            ]
          },
          "metadata": {},
          "output_type": "display_data"
        }
      ],
      "source": [
        "result.plot(kind=\"barh\", color=[\"DarkRed\",\"DarkCyan\",\"DarkBlue\",\"Yellow\"])"
      ]
    }
  ],
  "metadata": {
    "colab": {
      "provenance": []
    },
    "kernelspec": {
      "display_name": "Python 3.11.4 64-bit",
      "language": "python",
      "name": "python3"
    },
    "language_info": {
      "codemirror_mode": {
        "name": "ipython",
        "version": 3
      },
      "file_extension": ".py",
      "mimetype": "text/x-python",
      "name": "python",
      "nbconvert_exporter": "python",
      "pygments_lexer": "ipython3",
      "version": "3.11.4"
    },
    "vscode": {
      "interpreter": {
        "hash": "aee8b7b246df8f9039afb4144a1f6fd8d2ca17a180786b69acc140d282b71a49"
      }
    }
  },
  "nbformat": 4,
  "nbformat_minor": 0
}
